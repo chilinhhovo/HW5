{
 "cells": [
  {
   "cell_type": "markdown",
   "id": "839f9866-8e9b-4563-a9ca-9482d7c50b2e",
   "metadata": {},
   "source": [
    "1. Examine both Open Meteo and Tomorrow and decide which one you'd prefer to use. What drove your decision?"
   ]
  },
  {
   "cell_type": "markdown",
   "id": "dc8c35ee-9c76-4316-8dee-b4ce97c94582",
   "metadata": {},
   "source": [
    "I chose Open Meteo because no sign up or API keys are required "
   ]
  },
  {
   "cell_type": "markdown",
   "id": "0862eac5-20c3-4617-9232-15c041fa82a6",
   "metadata": {},
   "source": [
    "2. What is the URL to the documentation? (You don't use code for this one)"
   ]
  },
  {
   "cell_type": "markdown",
   "id": "eb3d2baa-bef3-414a-ba1c-35ea0f5698c9",
   "metadata": {},
   "source": [
    "https://open-meteo.com/en/docs"
   ]
  },
  {
   "cell_type": "markdown",
   "id": "9500419b-748b-476c-bda3-78155088f89d",
   "metadata": {},
   "source": [
    "3. Make a request for the current weather where you are born, or somewhere you've lived."
   ]
  },
  {
   "cell_type": "code",
   "execution_count": 13,
   "id": "ece2624a-2915-4fe3-b4bd-dc099baeb0c4",
   "metadata": {},
   "outputs": [
    {
     "data": {
      "text/plain": [
       "dict_keys(['latitude', 'longitude', 'generationtime_ms', 'utc_offset_seconds', 'timezone', 'timezone_abbreviation', 'elevation', 'current_units', 'current'])"
      ]
     },
     "execution_count": 13,
     "metadata": {},
     "output_type": "execute_result"
    }
   ],
   "source": [
    "##Import data for Cambridge\n",
    "import requests \n",
    "url = \"https://api.open-meteo.com/v1/forecast?latitude=52.2&longitude=0.1167&current=temperature_2m,apparent_temperature&timezone=Europe%2FLondon&forecast_days=1\"\n",
    "response = requests.get(url)\n",
    "response \n",
    "data = response.json()\n",
    "##Print keys\n",
    "data.keys()"
   ]
  },
  {
   "cell_type": "markdown",
   "id": "328d48a6-9aa1-420b-93bd-6209e272a4db",
   "metadata": {},
   "source": [
    "4. Print out the country this location is in."
   ]
  },
  {
   "cell_type": "code",
   "execution_count": 14,
   "id": "7cddc038-ba4d-41cc-b752-0f9faa657f35",
   "metadata": {},
   "outputs": [
    {
     "name": "stdout",
     "output_type": "stream",
     "text": [
      "The coordinates 52.2 latitude and 0.119999886 longitude correspond to Cambridge, a historic city in eastern England, United Kingdom.\n"
     ]
    }
   ],
   "source": [
    "## the location does not exist in the database so I just print location out from google search \n",
    "print (f\"The coordinates {data['latitude']} latitude and {data['longitude']} longitude correspond to Cambridge, a historic city in eastern England, United Kingdom.\")"
   ]
  },
  {
   "cell_type": "markdown",
   "id": "15d0079b-ca22-42f6-9fb7-46d4befe430f",
   "metadata": {},
   "source": [
    "5. Print out the difference between the current temperature and how warm it feels. Use \"It feels ___ degrees colder\" or \"It feels ___ degrees warmer,\" not negative numbers."
   ]
  },
  {
   "cell_type": "code",
   "execution_count": 28,
   "id": "a8751095-4471-425a-85f4-d61c1cf0c0e0",
   "metadata": {},
   "outputs": [
    {
     "name": "stdout",
     "output_type": "stream",
     "text": [
      "None\n"
     ]
    }
   ],
   "source": [
    "current_weather = data.get('apparent_temperature') \n",
    "print(current_weather)"
   ]
  },
  {
   "cell_type": "code",
   "execution_count": 29,
   "id": "2f76cb12-e740-4156-9c58-ea49741c057e",
   "metadata": {},
   "outputs": [
    {
     "name": "stdout",
     "output_type": "stream",
     "text": [
      "{'latitude': 52.2, 'longitude': 0.119999886, 'generationtime_ms': 0.06306171417236328, 'utc_offset_seconds': 0, 'timezone': 'Europe/London', 'timezone_abbreviation': 'GMT', 'elevation': 11.0, 'current_units': {'time': 'iso8601', 'interval': 'seconds', 'temperature_2m': '°C', 'apparent_temperature': '°C'}, 'current': {'time': '2024-11-11T02:00', 'interval': 900, 'temperature_2m': 10.1, 'apparent_temperature': 7.3}}\n"
     ]
    }
   ],
   "source": [
    "print (data) "
   ]
  },
  {
   "cell_type": "code",
   "execution_count": 30,
   "id": "7ec50a8d-561b-4e57-ab3f-0c83bcadee05",
   "metadata": {},
   "outputs": [
    {
     "name": "stdout",
     "output_type": "stream",
     "text": [
      "It feels 2.8 degrees colder.\n"
     ]
    }
   ],
   "source": [
    "## fetch data \n",
    "current_temp = data ['current']['temperature_2m']\n",
    "feels_temp = data ['current']['apparent_temperature']\n",
    "difference_temp = abs(current_temp - feels_temp) \n",
    "\n",
    "if feels_temp > current_temp: \n",
    "    print (f\"It feels {difference_temp} degrees warmer.\") \n",
    "else: \n",
    "    print (f\"It feels {difference_temp} degrees colder.\") \n"
   ]
  },
  {
   "cell_type": "markdown",
   "id": "7afc69e6-70d9-4508-b068-0e9120ac44dd",
   "metadata": {},
   "source": [
    "6. What's the current temperature at Heathrow International Airport? Use the airport's IATA code to search."
   ]
  },
  {
   "cell_type": "code",
   "execution_count": 36,
   "id": "f4203b2b-7dbe-4fa6-9a0a-01ab796c84a5",
   "metadata": {},
   "outputs": [
    {
     "name": "stdout",
     "output_type": "stream",
     "text": [
      "The current temperature at LHR is 10.3\n"
     ]
    }
   ],
   "source": [
    "import requests \n",
    "url = \"https://api.open-meteo.com/v1/forecast?latitude=51.4712&longitude=-0.4565&current=temperature_2m&timezone=Europe%2FLondon\" \n",
    "response = requests.get(url)\n",
    "response \n",
    "data = response.json()\n",
    "##Print keys\n",
    "data.keys()\n",
    "#print current temp \n",
    "print (f\"The current temperature at LHR is {data['current']['temperature_2m']}\")"
   ]
  },
  {
   "cell_type": "markdown",
   "id": "bcc4806c-fdda-4bc6-9783-7b0107158450",
   "metadata": {},
   "source": [
    "8. Print the date of each of the 3 days you're getting a forecast for."
   ]
  },
  {
   "cell_type": "code",
   "execution_count": 37,
   "id": "42bc9495-e40e-4019-bc04-4f841a61475d",
   "metadata": {},
   "outputs": [
    {
     "data": {
      "text/plain": [
       "dict_keys(['latitude', 'longitude', 'generationtime_ms', 'utc_offset_seconds', 'timezone', 'timezone_abbreviation', 'elevation', 'daily_units', 'daily'])"
      ]
     },
     "execution_count": 37,
     "metadata": {},
     "output_type": "execute_result"
    }
   ],
   "source": [
    "import requests \n",
    "url = \"https://api.open-meteo.com/v1/forecast?latitude=51.4712&longitude=-0.4565&daily=temperature_2m_max,temperature_2m_min,apparent_temperature_max,apparent_temperature_min,sunrise,sunset,daylight_duration,sunshine_duration,uv_index_max,uv_index_clear_sky_max,precipitation_sum,rain_sum,showers_sum,snowfall_sum,precipitation_hours,precipitation_probability_max,wind_speed_10m_max,wind_gusts_10m_max,wind_direction_10m_dominant,shortwave_radiation_sum,et0_fao_evapotranspiration&timezone=Europe%2FLondon&forecast_days=3\"\n",
    "response = requests.get(url)\n",
    "response \n",
    "data = response.json()\n",
    "##Print keys\n",
    "data.keys()"
   ]
  },
  {
   "cell_type": "code",
   "execution_count": 51,
   "id": "c47a543e-1390-45d4-a563-c06dfac9f315",
   "metadata": {},
   "outputs": [
    {
     "name": "stdout",
     "output_type": "stream",
     "text": [
      "The dates of the forecast are:\n",
      "2024-11-11\n",
      "2024-11-12\n",
      "2024-11-13\n"
     ]
    }
   ],
   "source": [
    "dates = data['daily']['time']\n",
    "\n",
    "print(\"The dates of the forecast are:\")\n",
    "for date in dates:\n",
    "    print(date)"
   ]
  },
  {
   "cell_type": "markdown",
   "id": "490dad98-749f-49e6-a07b-b6b3ff9f4eff",
   "metadata": {},
   "source": [
    "9. Print the maximum temperature of each of the days."
   ]
  },
  {
   "cell_type": "code",
   "execution_count": 73,
   "id": "45127cc5-27eb-4712-b4be-1222938b83f6",
   "metadata": {},
   "outputs": [
    {
     "name": "stdout",
     "output_type": "stream",
     "text": [
      "The maximum temperature of 2024-11-11 is 10.8°C\n",
      "The maximum temperature of 2024-11-12 is 11.0°C\n",
      "The maximum temperature of 2024-11-13 is 10.7°C\n"
     ]
    }
   ],
   "source": [
    "maxi_temp = data ['daily']['temperature_2m_max']\n",
    "for i in range(len(dates)):\n",
    "    print(f\"The maximum temperature of {dates[i]} is {maxi_temp[i]}°C\")\n",
    "\n",
    "    \n",
    "#print(f\"The maximum temperature of {data['daily']['time'][0]} is {data ['daily']['temperature_2m_max'][0]}°C\")\n",
    "#print(f\"The maximum temperature of {data['daily']['time'][1]} is {data ['daily']['temperature_2m_max'][1]}°C\")\n",
    "#print(f\"The maximum temperature of {data['daily']['time'][2]} is {data ['daily']['temperature_2m_max'][2]}°C\")"
   ]
  },
  {
   "cell_type": "markdown",
   "id": "0e93a8b0-bd5e-4457-b689-223f490d77bd",
   "metadata": {},
   "source": [
    "10. Print only the day with the highest maximum temperature."
   ]
  },
  {
   "cell_type": "code",
   "execution_count": 75,
   "id": "851289b1-4dcc-446a-93ea-8369149629d9",
   "metadata": {},
   "outputs": [
    {
     "name": "stdout",
     "output_type": "stream",
     "text": [
      "The maximum temperature from the forecast will be 11.0°C on 2024-11-12\n"
     ]
    }
   ],
   "source": [
    "max_temp_of_3 = max(maxi_temp)\n",
    "max_temp_index = maxi_temp.index(max_temp_of_3)\n",
    "max_temp_date = dates[max_temp_index]\n",
    "\n",
    "# Print the result\n",
    "print(f\"The maximum temperature from the forecast will be {max_temp_of_3}°C on {max_temp_date}\")\n",
    "##print(f\"The maximum temperature will be {max_temp_of_3}°C on {dates[i]}\")"
   ]
  },
  {
   "cell_type": "markdown",
   "id": "962f27b2-6c2d-4532-a52b-1f810b012a6a",
   "metadata": {},
   "source": [
    "11. Did you find this easier or more difficult than using the weatherapi.com, and why? Which would you recommend to someone interesting in building a tool around weather information?"
   ]
  },
  {
   "cell_type": "markdown",
   "id": "b6c01586-2c4b-445a-8af1-8295b139f3e2",
   "metadata": {},
   "source": [
    "I think finding the location's name was more challenging because it required more steps; I would want to print/look up the name within JSON. However, the Open Meteo did not require a login, which was nice and straightforward and allowed me to customise which category of the weather I was interested in, making the json more straightforward to read. "
   ]
  },
  {
   "cell_type": "code",
   "execution_count": null,
   "id": "a356b05d-bb10-4874-bdfb-5f25260f47ac",
   "metadata": {},
   "outputs": [],
   "source": []
  }
 ],
 "metadata": {
  "kernelspec": {
   "display_name": "Python 3 (ipykernel)",
   "language": "python",
   "name": "python3"
  },
  "language_info": {
   "codemirror_mode": {
    "name": "ipython",
    "version": 3
   },
   "file_extension": ".py",
   "mimetype": "text/x-python",
   "name": "python",
   "nbconvert_exporter": "python",
   "pygments_lexer": "ipython3",
   "version": "3.12.7"
  }
 },
 "nbformat": 4,
 "nbformat_minor": 5
}
